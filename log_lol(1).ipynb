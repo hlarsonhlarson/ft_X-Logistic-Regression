{
  "nbformat": 4,
  "nbformat_minor": 0,
  "metadata": {
    "colab": {
      "name": "log_lol.ipynb",
      "provenance": [],
      "collapsed_sections": []
    },
    "kernelspec": {
      "name": "python3",
      "display_name": "Python 3"
    }
  },
  "cells": [
    {
      "cell_type": "code",
      "metadata": {
        "id": "ymoGIrhbY8ue"
      },
      "source": [
        "import numpy as np\n",
        "import pandas as pd\n",
        "from sys import argv\n",
        "import os\n",
        "import json\n",
        "from pathlib import Path\n",
        "import matplotlib.pyplot as plt\n",
        "\n",
        "\n",
        "MY_FEATURES = [\"Herbology\", \"Ancient Runes\", \"Astronomy\", \"Charms\", \"Defense Against the Dark Arts\"]\n",
        "\n",
        "class LogReg:\n",
        "\n",
        "    def __init__(self, filename):\n",
        "\n",
        "        self.costs = None\n",
        "        self.mean = None\n",
        "        self.std = None\n",
        "        self.df = pd.read_csv(filename)\n",
        "        self.df = self.df.dropna()\n",
        "        self.Y = self.df['Hogwarts House']\n",
        "        self.house_names = self.Y.unique()\n",
        "        print(self.house_names)\n",
        "        self.df = self.df[MY_FEATURES]\n",
        "        self.df = self.normalize_data(self.df)\n",
        "\n",
        "        self.df = self.df.to_numpy(dtype=np.float128)\n",
        "\n",
        "        self.convert_housenames()\n",
        "\n",
        "        #flattern\n",
        "        self.df = self.df.reshape(self.df.shape[0], -1).T\n",
        "        self.Y = self.Y.reshape(self.Y.shape[0], -1).T\n",
        "\n",
        "        self.thetas = []\n",
        "        self.bs = []\n",
        "\n",
        "\n",
        "    def convert_housenames(self):\n",
        "        self.Y = np.asarray([np.float128(np.where(self.house_names == x)[0][0] + 1) for x in self.Y]).reshape(-1, 1)\n",
        "        # self.Y = np.array(self.Y)\n",
        "\n",
        "\n",
        "        self.Y_1 = (self.Y.astype(int) == 1).astype(int).reshape(-1,1)\n",
        "        self.Y_2 = (self.Y.astype(int) == 2).astype(int).reshape(-1,1)\n",
        "        self.Y_3 = (self.Y.astype(int) == 3).astype(int).reshape(-1,1)\n",
        "        self.Y_4 = (self.Y.astype(int) == 4).astype(int).reshape(-1,1)\n",
        "\n",
        "        self.y_s = [self.Y_1, self.Y_2, self.Y_3, self.Y_4]\n",
        "\n",
        "    def normalize_data(self, data):\n",
        "        self.mean = data.mean()\n",
        "        self.std = data.std()\n",
        "        return (data - data.mean()) / data.std()\n",
        "\n",
        "    def init_with_zeroes(self, dim):\n",
        "        self.theta = np.zeros(shape=(dim, 1))\n",
        "        self.b = 0\n",
        "        return self.theta, self.b\n",
        "\n",
        "    def sigmoid(self, x):\n",
        "        return 1 / (1 + np.exp(-x))\n",
        "\n",
        "    def propagate(self, theta, b, X, Y):\n",
        "        m = X.shape[1]\n",
        "        g = (np.dot(theta.T,X) + b).T\n",
        "        h = self.sigmoid(g)\n",
        "        cost = (1/m) * np.sum(np.dot(-Y.T , np.log(h)) - \n",
        "        np.dot((1 - Y).T , np.log(1 - h)))\n",
        "        #print(X.shape)\n",
        "        dtheta = (1 / m) * np.dot(X, (h - Y))\n",
        "        db = (1 / m) * np.sum(h - Y)\n",
        "\n",
        "        cost = np.squeeze(cost)\n",
        "        grads = {\"dtheta\": dtheta,\n",
        "                 \"db\": db}\n",
        "        return grads, cost\n",
        "\n",
        "    def optimize(self, theta, b, X, Y, num_iterations, lr):\n",
        "        costs = []\n",
        "        for i in range(num_iterations):\n",
        "            #print(i, num_iterations)\n",
        "            grads, cost = self.propagate(theta, b, X, Y)\n",
        "\n",
        "            dtheta = grads[\"dtheta\"]\n",
        "            db = grads[\"db\"]\n",
        "\n",
        "            theta = theta - lr * dtheta\n",
        "            b = b - lr * db\n",
        "\n",
        "            if i % 100 == 0:\n",
        "                costs.append(cost)\n",
        "        params = {\"theta\": theta,\n",
        "                  \"b\": b}\n",
        "        grads = {\"dtheta\": dtheta,\n",
        "                 \"db\": db}\n",
        "        return params, grads, cost\n",
        "\n",
        "    def save_coefficients(self, filename='coefficients.json', folder='data'):\n",
        "        results = []\n",
        "        for theta, b in zip(self.thetas, self.bs):\n",
        "          results.append({'b': str(b), 'theta': [str(th[0]) for th in theta.tolist()]})\n",
        "        '''\n",
        "        заменить путь внутри with\n",
        "        '''\n",
        "        print(results)\n",
        "        with open('/coefficients.json', 'w') as file:\n",
        "            file.write(json.dumps(results))\n",
        "\n",
        "    def model(self, X, Y, lr=0.001, num_iterations=10000, visu=0):\n",
        "        theta, b = self.init_with_zeroes(X.shape[0])\n",
        "        parametrs = []\n",
        "        grads = []\n",
        "        costs = []\n",
        "        for i,y in enumerate(self.y_s):\n",
        "          parameter, grad, cost = self.optimize(theta, b, X, y, num_iterations, lr)\n",
        "          parametrs.append(parameter)\n",
        "          grads.append(grad)\n",
        "          costs.append(cost)\n",
        "          self.thetas.append(parameter['theta'])\n",
        "          self.bs.append(parameter['b'])\n",
        "        print('ok')\n",
        "        self.save_coefficients(i)\n",
        "        print('ok')\n",
        "        self.costs = costs\n",
        "        self.show_costs()\n",
        "      \n",
        "    def show_costs(self):\n",
        "        plt.plot([i for i in range(len(self.costs))], self.costs)\n",
        "\n",
        "    def predict(self):\n",
        "        data = pd.read_csv('')\n",
        "        print('STUB')\n",
        "\n",
        "\n"
      ],
      "execution_count": 23,
      "outputs": []
    },
    {
      "cell_type": "code",
      "metadata": {
        "colab": {
          "base_uri": "https://localhost:8080/",
          "height": 347
        },
        "id": "1uz7Ec7mY__x",
        "outputId": "0417fba4-10f1-42a9-d774-d5cd495c2aac"
      },
      "source": [
        "log_reg = LogReg('/content/dataset_train.csv')\n",
        "log_reg.model(log_reg.df, log_reg.Y)\n"
      ],
      "execution_count": 24,
      "outputs": [
        {
          "output_type": "stream",
          "text": [
            "['Ravenclaw' 'Slytherin' 'Gryffindor' 'Hufflepuff']\n"
          ],
          "name": "stdout"
        },
        {
          "output_type": "error",
          "ename": "KeyboardInterrupt",
          "evalue": "ignored",
          "traceback": [
            "\u001b[0;31m---------------------------------------------------------------------------\u001b[0m",
            "\u001b[0;31mKeyboardInterrupt\u001b[0m                         Traceback (most recent call last)",
            "\u001b[0;32m<ipython-input-24-b2a8cff4d63a>\u001b[0m in \u001b[0;36m<module>\u001b[0;34m()\u001b[0m\n\u001b[1;32m      1\u001b[0m \u001b[0mlog_reg\u001b[0m \u001b[0;34m=\u001b[0m \u001b[0mLogReg\u001b[0m\u001b[0;34m(\u001b[0m\u001b[0;34m'/content/dataset_train.csv'\u001b[0m\u001b[0;34m)\u001b[0m\u001b[0;34m\u001b[0m\u001b[0;34m\u001b[0m\u001b[0m\n\u001b[0;32m----> 2\u001b[0;31m \u001b[0mlog_reg\u001b[0m\u001b[0;34m.\u001b[0m\u001b[0mmodel\u001b[0m\u001b[0;34m(\u001b[0m\u001b[0mlog_reg\u001b[0m\u001b[0;34m.\u001b[0m\u001b[0mdf\u001b[0m\u001b[0;34m,\u001b[0m \u001b[0mlog_reg\u001b[0m\u001b[0;34m.\u001b[0m\u001b[0mY\u001b[0m\u001b[0;34m)\u001b[0m\u001b[0;34m\u001b[0m\u001b[0;34m\u001b[0m\u001b[0m\n\u001b[0m",
            "\u001b[0;32m<ipython-input-23-44964e582736>\u001b[0m in \u001b[0;36mmodel\u001b[0;34m(self, X, Y, lr, num_iterations, visu)\u001b[0m\n\u001b[1;32m    114\u001b[0m         \u001b[0mcosts\u001b[0m \u001b[0;34m=\u001b[0m \u001b[0;34m[\u001b[0m\u001b[0;34m]\u001b[0m\u001b[0;34m\u001b[0m\u001b[0;34m\u001b[0m\u001b[0m\n\u001b[1;32m    115\u001b[0m         \u001b[0;32mfor\u001b[0m \u001b[0mi\u001b[0m\u001b[0;34m,\u001b[0m\u001b[0my\u001b[0m \u001b[0;32min\u001b[0m \u001b[0menumerate\u001b[0m\u001b[0;34m(\u001b[0m\u001b[0mself\u001b[0m\u001b[0;34m.\u001b[0m\u001b[0my_s\u001b[0m\u001b[0;34m)\u001b[0m\u001b[0;34m:\u001b[0m\u001b[0;34m\u001b[0m\u001b[0;34m\u001b[0m\u001b[0m\n\u001b[0;32m--> 116\u001b[0;31m           \u001b[0mparameter\u001b[0m\u001b[0;34m,\u001b[0m \u001b[0mgrad\u001b[0m\u001b[0;34m,\u001b[0m \u001b[0mcost\u001b[0m \u001b[0;34m=\u001b[0m \u001b[0mself\u001b[0m\u001b[0;34m.\u001b[0m\u001b[0moptimize\u001b[0m\u001b[0;34m(\u001b[0m\u001b[0mtheta\u001b[0m\u001b[0;34m,\u001b[0m \u001b[0mb\u001b[0m\u001b[0;34m,\u001b[0m \u001b[0mX\u001b[0m\u001b[0;34m,\u001b[0m \u001b[0my\u001b[0m\u001b[0;34m,\u001b[0m \u001b[0mnum_iterations\u001b[0m\u001b[0;34m,\u001b[0m \u001b[0mlr\u001b[0m\u001b[0;34m)\u001b[0m\u001b[0;34m\u001b[0m\u001b[0;34m\u001b[0m\u001b[0m\n\u001b[0m\u001b[1;32m    117\u001b[0m           \u001b[0mparametrs\u001b[0m\u001b[0;34m.\u001b[0m\u001b[0mappend\u001b[0m\u001b[0;34m(\u001b[0m\u001b[0mparameter\u001b[0m\u001b[0;34m)\u001b[0m\u001b[0;34m\u001b[0m\u001b[0;34m\u001b[0m\u001b[0m\n\u001b[1;32m    118\u001b[0m           \u001b[0mgrads\u001b[0m\u001b[0;34m.\u001b[0m\u001b[0mappend\u001b[0m\u001b[0;34m(\u001b[0m\u001b[0mgrad\u001b[0m\u001b[0;34m)\u001b[0m\u001b[0;34m\u001b[0m\u001b[0;34m\u001b[0m\u001b[0m\n",
            "\u001b[0;32m<ipython-input-23-44964e582736>\u001b[0m in \u001b[0;36moptimize\u001b[0;34m(self, theta, b, X, Y, num_iterations, lr)\u001b[0m\n\u001b[1;32m     81\u001b[0m         \u001b[0;32mfor\u001b[0m \u001b[0mi\u001b[0m \u001b[0;32min\u001b[0m \u001b[0mrange\u001b[0m\u001b[0;34m(\u001b[0m\u001b[0mnum_iterations\u001b[0m\u001b[0;34m)\u001b[0m\u001b[0;34m:\u001b[0m\u001b[0;34m\u001b[0m\u001b[0;34m\u001b[0m\u001b[0m\n\u001b[1;32m     82\u001b[0m             \u001b[0;31m#print(i, num_iterations)\u001b[0m\u001b[0;34m\u001b[0m\u001b[0;34m\u001b[0m\u001b[0;34m\u001b[0m\u001b[0m\n\u001b[0;32m---> 83\u001b[0;31m             \u001b[0mgrads\u001b[0m\u001b[0;34m,\u001b[0m \u001b[0mcost\u001b[0m \u001b[0;34m=\u001b[0m \u001b[0mself\u001b[0m\u001b[0;34m.\u001b[0m\u001b[0mpropagate\u001b[0m\u001b[0;34m(\u001b[0m\u001b[0mtheta\u001b[0m\u001b[0;34m,\u001b[0m \u001b[0mb\u001b[0m\u001b[0;34m,\u001b[0m \u001b[0mX\u001b[0m\u001b[0;34m,\u001b[0m \u001b[0mY\u001b[0m\u001b[0;34m)\u001b[0m\u001b[0;34m\u001b[0m\u001b[0;34m\u001b[0m\u001b[0m\n\u001b[0m\u001b[1;32m     84\u001b[0m \u001b[0;34m\u001b[0m\u001b[0m\n\u001b[1;32m     85\u001b[0m             \u001b[0mdtheta\u001b[0m \u001b[0;34m=\u001b[0m \u001b[0mgrads\u001b[0m\u001b[0;34m[\u001b[0m\u001b[0;34m\"dtheta\"\u001b[0m\u001b[0;34m]\u001b[0m\u001b[0;34m\u001b[0m\u001b[0;34m\u001b[0m\u001b[0m\n",
            "\u001b[0;32m<ipython-input-23-44964e582736>\u001b[0m in \u001b[0;36mpropagate\u001b[0;34m(self, theta, b, X, Y)\u001b[0m\n\u001b[1;32m     65\u001b[0m         \u001b[0mm\u001b[0m \u001b[0;34m=\u001b[0m \u001b[0mX\u001b[0m\u001b[0;34m.\u001b[0m\u001b[0mshape\u001b[0m\u001b[0;34m[\u001b[0m\u001b[0;36m1\u001b[0m\u001b[0;34m]\u001b[0m\u001b[0;34m\u001b[0m\u001b[0;34m\u001b[0m\u001b[0m\n\u001b[1;32m     66\u001b[0m         \u001b[0mg\u001b[0m \u001b[0;34m=\u001b[0m \u001b[0;34m(\u001b[0m\u001b[0mnp\u001b[0m\u001b[0;34m.\u001b[0m\u001b[0mdot\u001b[0m\u001b[0;34m(\u001b[0m\u001b[0mtheta\u001b[0m\u001b[0;34m.\u001b[0m\u001b[0mT\u001b[0m\u001b[0;34m,\u001b[0m\u001b[0mX\u001b[0m\u001b[0;34m)\u001b[0m \u001b[0;34m+\u001b[0m \u001b[0mb\u001b[0m\u001b[0;34m)\u001b[0m\u001b[0;34m.\u001b[0m\u001b[0mT\u001b[0m\u001b[0;34m\u001b[0m\u001b[0;34m\u001b[0m\u001b[0m\n\u001b[0;32m---> 67\u001b[0;31m         \u001b[0mh\u001b[0m \u001b[0;34m=\u001b[0m \u001b[0mself\u001b[0m\u001b[0;34m.\u001b[0m\u001b[0msigmoid\u001b[0m\u001b[0;34m(\u001b[0m\u001b[0mg\u001b[0m\u001b[0;34m)\u001b[0m\u001b[0;34m\u001b[0m\u001b[0;34m\u001b[0m\u001b[0m\n\u001b[0m\u001b[1;32m     68\u001b[0m         cost = (1/m) * np.sum(np.dot(-Y.T , np.log(h)) - \n\u001b[1;32m     69\u001b[0m         np.dot((1 - Y).T , np.log(1 - h)))\n",
            "\u001b[0;32m<ipython-input-23-44964e582736>\u001b[0m in \u001b[0;36msigmoid\u001b[0;34m(self, x)\u001b[0m\n\u001b[1;32m     60\u001b[0m \u001b[0;34m\u001b[0m\u001b[0m\n\u001b[1;32m     61\u001b[0m     \u001b[0;32mdef\u001b[0m \u001b[0msigmoid\u001b[0m\u001b[0;34m(\u001b[0m\u001b[0mself\u001b[0m\u001b[0;34m,\u001b[0m \u001b[0mx\u001b[0m\u001b[0;34m)\u001b[0m\u001b[0;34m:\u001b[0m\u001b[0;34m\u001b[0m\u001b[0;34m\u001b[0m\u001b[0m\n\u001b[0;32m---> 62\u001b[0;31m         \u001b[0;32mreturn\u001b[0m \u001b[0;36m1\u001b[0m \u001b[0;34m/\u001b[0m \u001b[0;34m(\u001b[0m\u001b[0;36m1\u001b[0m \u001b[0;34m+\u001b[0m \u001b[0mnp\u001b[0m\u001b[0;34m.\u001b[0m\u001b[0mexp\u001b[0m\u001b[0;34m(\u001b[0m\u001b[0;34m-\u001b[0m\u001b[0mx\u001b[0m\u001b[0;34m)\u001b[0m\u001b[0;34m)\u001b[0m\u001b[0;34m\u001b[0m\u001b[0;34m\u001b[0m\u001b[0m\n\u001b[0m\u001b[1;32m     63\u001b[0m \u001b[0;34m\u001b[0m\u001b[0m\n\u001b[1;32m     64\u001b[0m     \u001b[0;32mdef\u001b[0m \u001b[0mpropagate\u001b[0m\u001b[0;34m(\u001b[0m\u001b[0mself\u001b[0m\u001b[0;34m,\u001b[0m \u001b[0mtheta\u001b[0m\u001b[0;34m,\u001b[0m \u001b[0mb\u001b[0m\u001b[0;34m,\u001b[0m \u001b[0mX\u001b[0m\u001b[0;34m,\u001b[0m \u001b[0mY\u001b[0m\u001b[0;34m)\u001b[0m\u001b[0;34m:\u001b[0m\u001b[0;34m\u001b[0m\u001b[0;34m\u001b[0m\u001b[0m\n",
            "\u001b[0;31mKeyboardInterrupt\u001b[0m: "
          ]
        }
      ]
    },
    {
      "cell_type": "code",
      "metadata": {
        "id": "KzoPrUeu-C2q"
      },
      "source": [
        ""
      ],
      "execution_count": 3,
      "outputs": []
    },
    {
      "cell_type": "code",
      "metadata": {
        "id": "FQ1PAPLdbFHy"
      },
      "source": [
        "import os\n",
        "import json\n",
        "\n",
        "\n",
        "def error(msg):\n",
        "  print(msg)\n",
        "  exit()\n",
        "\n",
        "coefficients_filename = '/coefficients.json'\n",
        "def get_coefficients():\n",
        "    full_filename = os.path.join(coefficients_filename)\n",
        "    if os.path.exists(full_filename) and os.path.isfile(full_filename):\n",
        "        with open(full_filename, 'r') as file:\n",
        "            file = file.read()\n",
        "        try:\n",
        "            data = json.loads(file)\n",
        "            return data\n",
        "        except:\n",
        "            error(f'format of the file \"{full_filename}\" is incorrect (this must be json contains dict with 2 keys: \"teta_0\" and \"teta_1\", all them is floats or ints)')\n",
        "    error(f'the (\"{full_filename}\") file with coefficients is not exists')"
      ],
      "execution_count": 8,
      "outputs": []
    },
    {
      "cell_type": "code",
      "metadata": {
        "colab": {
          "base_uri": "https://localhost:8080/"
        },
        "id": "-3NsYHo9977Y",
        "outputId": "e6b543c0-9b22-449a-bb5e-7ffa248199d4"
      },
      "source": [
        "print(get_coefficients())"
      ],
      "execution_count": 9,
      "outputs": [
        {
          "output_type": "stream",
          "text": [
            "[{'b': '-0.9841017896779116684', 'theta': ['0.5687174064662564308', '0.8737137840054367176', '-0.5659964408265286446', '1.0382803378326241797', '0.56599644082652876065']}, {'b': '-1.4319684615384487333', 'theta': ['-0.71111441365792442984', '-0.7957454315792543557', '-0.6820249685117044245', '-0.52016492684131655837', '0.6820249685117045988']}, {'b': '-1.3163594320485527333', 'theta': ['-0.7683467681118024135', '1.0781718818746033778', '0.47826224842498010021', '-0.5615235617245853354', '-0.47826224842497996518']}, {'b': '-0.7622568423726405004', 'theta': ['0.9981232633069618428', '-1.1795310484340350117', '0.75000531606809725776', '0.10291370431209336251', '-0.7500053160680971558']}]\n"
          ],
          "name": "stdout"
        }
      ]
    },
    {
      "cell_type": "code",
      "metadata": {
        "colab": {
          "base_uri": "https://localhost:8080/"
        },
        "id": "YRtA1eQr-IsD",
        "outputId": "db52d61a-07de-4111-82f6-14f1cfefa795"
      },
      "source": [
        "import pandas as pd\n",
        "import numpy as np\n",
        "\n",
        "\n",
        "MY_FEATURES = [\"Herbology\", \"Ancient Runes\", \"Astronomy\", \"Charms\", \"Defense Against the Dark Arts\"]\n",
        "\n",
        "data = pd.read_csv('/content/dataset_train.csv')\n",
        "X = data[MY_FEATURES].iloc[0].to_numpy(dtype=float)\n",
        "\n",
        "\n",
        "def get_housenames(coeff_dict, X):\n",
        "  print(X)\n",
        "  coeff_dict['theta'] = np.array(coeff_dict['theta'], dtype=float)\n",
        "  coeff_dict['b'] = np.float(coeff_dict['b'])\n",
        "  print(coeff_dict['theta'])\n",
        "  return coeff_dict['b'] + np.dot(coeff_dict['theta'], X)\n",
        "\n",
        "def predict(X):\n",
        "  coeffs = get_coefficients()\n",
        "  values = []\n",
        "  for i in range(len(coeffs)):\n",
        "    values.append(get_housenames(coeffs[i], X))\n",
        "  return np.where(max(values)==values)\n",
        "\n",
        "\n",
        "predict(X)"
      ],
      "execution_count": 22,
      "outputs": [
        {
          "output_type": "stream",
          "text": [
            "[   5.7271803   532.48422612 -487.88608595 -232.79405       4.87886086]\n",
            "[ 0.56871741  0.87371378 -0.56599644  1.03828034  0.56599644]\n",
            "[   5.7271803   532.48422612 -487.88608595 -232.79405       4.87886086]\n",
            "[-0.71111441 -0.79574543 -0.68202497 -0.52016493  0.68202497]\n",
            "[   5.7271803   532.48422612 -487.88608595 -232.79405       4.87886086]\n",
            "[-0.76834677  1.07817188  0.47826225 -0.56152356 -0.47826225]\n",
            "[   5.7271803   532.48422612 -487.88608595 -232.79405       4.87886086]\n",
            "[ 0.99812326 -1.17953105  0.75000532  0.1029137  -0.75000532]\n",
            "[504.7095746379495, 27.942758079143257, 463.44117293174236, -1016.6615301648982]\n"
          ],
          "name": "stdout"
        },
        {
          "output_type": "execute_result",
          "data": {
            "text/plain": [
              "(array([0]),)"
            ]
          },
          "metadata": {
            "tags": []
          },
          "execution_count": 22
        }
      ]
    },
    {
      "cell_type": "code",
      "metadata": {
        "id": "C5sDSmQ3GHDU"
      },
      "source": [
        ""
      ],
      "execution_count": null,
      "outputs": []
    }
  ]
}