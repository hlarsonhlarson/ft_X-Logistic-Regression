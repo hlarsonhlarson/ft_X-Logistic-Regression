{
  "nbformat": 4,
  "nbformat_minor": 0,
  "metadata": {
    "colab": {
      "name": "log_lol(1).ipynb",
      "provenance": [],
      "collapsed_sections": []
    },
    "kernelspec": {
      "name": "python3",
      "display_name": "Python 3"
    }
  },
  "cells": [
    {
      "cell_type": "code",
      "metadata": {
        "id": "ymoGIrhbY8ue"
      },
      "source": [
        "import numpy as np\n",
        "import pandas as pd\n",
        "from sys import argv\n",
        "import os\n",
        "import json\n",
        "from pathlib import Path\n",
        "import matplotlib.pyplot as plt\n",
        "\n",
        "\n",
        "MY_FEATURES = [\"Herbology\", \"Ancient Runes\", \"Astronomy\", \"Charms\", \"Defense Against the Dark Arts\"]\n",
        "\n",
        "class LogReg:\n",
        "\n",
        "    def __init__(self, filename):\n",
        "\n",
        "        self.costs = None\n",
        "        self.mean = None\n",
        "        self.std = None\n",
        "        self.df = pd.read_csv(filename)\n",
        "        self.df = self.df.dropna()\n",
        "        self.Y = self.df['Hogwarts House']\n",
        "        self.house_names = self.Y.unique()\n",
        "        print(self.house_names)\n",
        "        self.df = self.df[MY_FEATURES]\n",
        "        self.df = self.normalize_data(self.df)\n",
        "\n",
        "        self.df = self.df.to_numpy(dtype=np.float128)\n",
        "\n",
        "        self.convert_housenames()\n",
        "\n",
        "        #flattern\n",
        "        self.df = self.df.reshape(self.df.shape[0], -1).T\n",
        "        self.Y = self.Y.reshape(self.Y.shape[0], -1).T\n",
        "\n",
        "        self.thetas = []\n",
        "        self.bs = []\n",
        "\n",
        "\n",
        "    def convert_housenames(self):\n",
        "        self.Y = np.asarray([np.float128(np.where(self.house_names == x)[0][0] + 1) for x in self.Y]).reshape(-1, 1)\n",
        "        # self.Y = np.array(self.Y)\n",
        "\n",
        "\n",
        "        self.Y_1 = (self.Y.astype(int) == 1).astype(int).reshape(-1,1)\n",
        "        self.Y_2 = (self.Y.astype(int) == 2).astype(int).reshape(-1,1)\n",
        "        self.Y_3 = (self.Y.astype(int) == 3).astype(int).reshape(-1,1)\n",
        "        self.Y_4 = (self.Y.astype(int) == 4).astype(int).reshape(-1,1)\n",
        "\n",
        "        self.y_s = [self.Y_1, self.Y_2, self.Y_3, self.Y_4]\n",
        "\n",
        "    def normalize_data(self, data):\n",
        "        self.mean = data.mean()\n",
        "        self.std = data.std()\n",
        "        return (data - data.mean()) / data.std()\n",
        "\n",
        "    def init_with_zeroes(self, dim):\n",
        "        self.theta = np.zeros(shape=(dim, 1))\n",
        "        self.b = 0\n",
        "        return self.theta, self.b\n",
        "\n",
        "    def sigmoid(self, x):\n",
        "        return 1 / (1 + np.exp(-x))\n",
        "\n",
        "    def propagate(self, theta, b, X, Y):\n",
        "        m = X.shape[1]\n",
        "        g = (np.dot(theta.T,X) + b).T\n",
        "        h = self.sigmoid(g)\n",
        "        cost = (1/m) * np.sum(np.dot(-Y.T , np.log(h)) - \n",
        "        np.dot((1 - Y).T , np.log(1 - h)))\n",
        "        #print(X.shape)\n",
        "        dtheta = (1 / m) * np.dot(X, (h - Y))\n",
        "        db = (1 / m) * np.sum(h - Y)\n",
        "\n",
        "        cost = np.squeeze(cost)\n",
        "        grads = {\"dtheta\": dtheta,\n",
        "                 \"db\": db}\n",
        "        return grads, cost\n",
        "\n",
        "    def optimize(self, theta, b, X, Y, num_iterations, lr):\n",
        "        costs = []\n",
        "        for i in range(num_iterations):\n",
        "            #print(i, num_iterations)\n",
        "            grads, cost = self.propagate(theta, b, X, Y)\n",
        "\n",
        "            dtheta = grads[\"dtheta\"]\n",
        "            db = grads[\"db\"]\n",
        "\n",
        "            theta = theta - lr * dtheta\n",
        "            b = b - lr * db\n",
        "\n",
        "            if i % 100 == 0:\n",
        "                costs.append(cost)\n",
        "        params = {\"theta\": theta,\n",
        "                  \"b\": b}\n",
        "        grads = {\"dtheta\": dtheta,\n",
        "                 \"db\": db}\n",
        "        return params, grads, cost\n",
        "\n",
        "    def save_coefficients(self, filename='coefficients.json', folder='data'):\n",
        "        results = []\n",
        "        for theta, b in zip(self.thetas, self.bs):\n",
        "          results.append({'b': str(b), 'theta': [str(th[0]) for th in theta.tolist()]})\n",
        "        '''\n",
        "        заменить путь внутри with\n",
        "        '''\n",
        "        print(results)\n",
        "        with open('/coefficients.json', 'w') as file:\n",
        "            file.write(json.dumps(results))\n",
        "\n",
        "    def model(self, X, Y, lr=0.001, num_iterations=10000, visu=0):\n",
        "        theta, b = self.init_with_zeroes(X.shape[0])\n",
        "        parametrs = []\n",
        "        grads = []\n",
        "        costs = []\n",
        "        for i,y in enumerate(self.y_s):\n",
        "          parameter, grad, cost = self.optimize(theta, b, X, y, num_iterations, lr)\n",
        "          parametrs.append(parameter)\n",
        "          grads.append(grad)\n",
        "          costs.append(cost)\n",
        "          self.thetas.append(parameter['theta'])\n",
        "          self.bs.append(parameter['b'])\n",
        "        print('ok')\n",
        "        self.save_coefficients(i)\n",
        "        print('ok')\n",
        "        self.costs = costs\n",
        "        self.show_costs()\n",
        "      \n",
        "    def show_costs(self):\n",
        "        plt.plot([i for i in range(len(self.costs))], self.costs)\n",
        "\n",
        "    def predict(self):\n",
        "        data = pd.read_csv('')\n",
        "        print('STUB')\n",
        "\n",
        "\n"
      ],
      "execution_count": 2,
      "outputs": []
    },
    {
      "cell_type": "code",
      "metadata": {
        "colab": {
          "base_uri": "https://localhost:8080/",
          "height": 354
        },
        "id": "1uz7Ec7mY__x",
        "outputId": "8860c976-e582-457b-fe1b-f481fd80bf15"
      },
      "source": [
        "log_reg = LogReg('/content/dataset_train.csv')\n",
        "log_reg.model(log_reg.df, log_reg.Y)\n"
      ],
      "execution_count": 3,
      "outputs": [
        {
          "output_type": "stream",
          "text": [
            "['Ravenclaw' 'Slytherin' 'Gryffindor' 'Hufflepuff']\n",
            "ok\n",
            "[{'b': '-0.9841017896779116684', 'theta': ['0.5687174064662564308', '0.8737137840054367176', '-0.5659964408265286446', '1.0382803378326241797', '0.56599644082652876065']}, {'b': '-1.4319684615384487333', 'theta': ['-0.71111441365792442984', '-0.7957454315792543557', '-0.6820249685117044245', '-0.52016492684131655837', '0.6820249685117045988']}, {'b': '-1.3163594320485527333', 'theta': ['-0.7683467681118024135', '1.0781718818746033778', '0.47826224842498010021', '-0.5615235617245853354', '-0.47826224842497996518']}, {'b': '-0.7622568423726405004', 'theta': ['0.9981232633069618428', '-1.1795310484340350117', '0.75000531606809725776', '0.10291370431209336251', '-0.7500053160680971558']}]\n",
            "ok\n"
          ],
          "name": "stdout"
        },
        {
          "output_type": "display_data",
          "data": {
            "image/png": "[encoded data removed]",
            "text/plain": [
              "<Figure size 432x288 with 1 Axes>"
            ]
          },
          "metadata": {
            "tags": [],
            "needs_background": "light"
          }
        }
      ]
    },
    {
      "cell_type": "code",
      "metadata": {
        "id": "KzoPrUeu-C2q"
      },
      "source": [
        ""
      ],
      "execution_count": null,
      "outputs": []
    },
    {
      "cell_type": "code",
      "metadata": {
        "id": "FQ1PAPLdbFHy"
      },
      "source": [
        "import os\n",
        "import json\n",
        "\n",
        "\n",
        "def error(msg):\n",
        "  print(msg)\n",
        "  exit()\n",
        "\n",
        "coefficients_filename = '/coefficients.json'\n",
        "def get_coefficients():\n",
        "    full_filename = os.path.join(coefficients_filename)\n",
        "    if os.path.exists(full_filename) and os.path.isfile(full_filename):\n",
        "        with open(full_filename, 'r') as file:\n",
        "            file = file.read()\n",
        "        try:\n",
        "            data = json.loads(file)\n",
        "            return data\n",
        "        except:\n",
        "            error(f'format of the file \"{full_filename}\" is incorrect (this must be json contains dict with 2 keys: \"teta_0\" and \"teta_1\", all them is floats or ints)')\n",
        "    error(f'the (\"{full_filename}\") file with coefficients is not exists')"
      ],
      "execution_count": 4,
      "outputs": []
    },
    {
      "cell_type": "code",
      "metadata": {
        "colab": {
          "base_uri": "https://localhost:8080/"
        },
        "id": "-3NsYHo9977Y",
        "outputId": "e6b543c0-9b22-449a-bb5e-7ffa248199d4"
      },
      "source": [
        "print(get_coefficients())"
      ],
      "execution_count": null,
      "outputs": [
        {
          "output_type": "stream",
          "text": [
            "[{'b': '-0.9841017896779116684', 'theta': ['0.5687174064662564308', '0.8737137840054367176', '-0.5659964408265286446', '1.0382803378326241797', '0.56599644082652876065']}, {'b': '-1.4319684615384487333', 'theta': ['-0.71111441365792442984', '-0.7957454315792543557', '-0.6820249685117044245', '-0.52016492684131655837', '0.6820249685117045988']}, {'b': '-1.3163594320485527333', 'theta': ['-0.7683467681118024135', '1.0781718818746033778', '0.47826224842498010021', '-0.5615235617245853354', '-0.47826224842497996518']}, {'b': '-0.7622568423726405004', 'theta': ['0.9981232633069618428', '-1.1795310484340350117', '0.75000531606809725776', '0.10291370431209336251', '-0.7500053160680971558']}]\n"
          ],
          "name": "stdout"
        }
      ]
    },
    {
      "cell_type": "code",
      "metadata": {
        "colab": {
          "base_uri": "https://localhost:8080/"
        },
        "id": "YRtA1eQr-IsD",
        "outputId": "3e441eed-7d66-4ff7-99ac-07b3e9e77402"
      },
      "source": [
        "import pandas as pd\n",
        "import numpy as np\n",
        "from sklearn.metrics import accuracy_score\n",
        "\n",
        "MY_FEATURES = [\"Herbology\", \"Ancient Runes\", \"Astronomy\", \"Charms\", \"Defense Against the Dark Arts\"]\n",
        "ALL_NEEDED = [\"Herbology\", \"Ancient Runes\", \"Astronomy\", \"Charms\", \"Defense Against the Dark Arts\", 'Hogwarts House']\n",
        "data = pd.read_csv('/content/dataset_train.csv')\n",
        "data = data[ALL_NEEDED]\n",
        "data_X = data[MY_FEATURES].dropna()\n",
        "data_X = (data_X - data_X.mean()) / data_X.std()\n",
        "\n",
        "\n",
        "house_names = data['Hogwarts House'].unique()\n",
        "Y = data['Hogwarts House']\n",
        "y_true = np.asarray([np.float128(np.where(house_names == x)[0][0] + 1) for x in Y])\n",
        "\n",
        "def sigmoid(X):\n",
        "  return 1 / (1 + np.exp(-X))\n",
        "\n",
        "def get_housenames(coeff_dict, X):\n",
        "  coeff_dict['theta'] = np.array(coeff_dict['theta'], dtype=float)\n",
        "  coeff_dict['b'] = np.float(coeff_dict['b'])\n",
        "  return sigmoid(coeff_dict['b'] + np.dot(coeff_dict['theta'], X))\n",
        "\n",
        "def predict():\n",
        "  coeffs = get_coefficients()\n",
        "  our_label = []\n",
        "  for index, row in data.iterrows():\n",
        "    X = row[MY_FEATURES].to_numpy(dtype=float)\n",
        "    values = []\n",
        "    for i in range(len(coeffs)):\n",
        "      values.append(get_housenames(coeffs[i], X))\n",
        "    my_values = np.argmax(values) + 1\n",
        "    our_label.append(my_values)\n",
        "\n",
        "  return our_label\n",
        "\n",
        "y_pred = np.array(predict(), dtype=float)\n",
        "print(len(y_pred))\n",
        "print(accuracy_score(y_true, y_pred))"
      ],
      "execution_count": 25,
      "outputs": [
        {
          "output_type": "stream",
          "text": [
            "/usr/local/lib/python3.6/dist-packages/ipykernel_launcher.py:18: RuntimeWarning: overflow encountered in exp\n"
          ],
          "name": "stderr"
        },
        {
          "output_type": "stream",
          "text": [
            "1600\n",
            "0.42\n"
          ],
          "name": "stdout"
        }
      ]
    },
    {
      "cell_type": "code",
      "metadata": {
        "id": "C5sDSmQ3GHDU"
      },
      "source": [
        ""
      ],
      "execution_count": null,
      "outputs": []
    }
  ]
}